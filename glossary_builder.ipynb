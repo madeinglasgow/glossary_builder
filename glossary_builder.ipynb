{
 "cells": [
  {
   "cell_type": "code",
   "execution_count": 1,
   "id": "d47c74ea-7ccf-42f2-81cd-e326a4b47010",
   "metadata": {},
   "outputs": [],
   "source": [
    "import os\n",
    "import pandas as pd\n",
    "import re\n",
    "\n",
    "from openai import OpenAI\n",
    "from tqdm import tqdm\n",
    "from dotenv import load_dotenv"
   ]
  },
  {
   "cell_type": "code",
   "execution_count": 2,
   "id": "c5fc2328-1652-47ca-a6c8-58ca6c88029d",
   "metadata": {},
   "outputs": [],
   "source": [
    "load_dotenv('.env', override=True)\n",
    "openai_api_key = os.getenv('OPENAI_API_KEY')"
   ]
  },
  {
   "cell_type": "code",
   "execution_count": 3,
   "id": "2cade149-5bc5-4471-bab9-3ff02c4d663f",
   "metadata": {},
   "outputs": [],
   "source": [
    "# Set up OpenAI client\n",
    "client = OpenAI(api_key=openai_api_key)"
   ]
  },
  {
   "cell_type": "code",
   "execution_count": 4,
   "id": "2e5837a1-3594-454d-82de-3cc64225842e",
   "metadata": {},
   "outputs": [],
   "source": [
    "# Function to get topics from transcript using OpenAI\n",
    "def get_topics(transcript):\n",
    "    response = client.chat.completions.create(\n",
    "        model=\"gpt-4o\",\n",
    "        messages=[\n",
    "            {\"role\": \"system\", \n",
    "             \"content\": \"\"\"\n",
    "                 You are a master teacher of beginner computer programmers with deep experience \n",
    "                 in identifying the concepts that novice learners may struggle with.\n",
    "                \"\"\"},\n",
    "            {\"role\": \"user\", \n",
    "             \"content\": f\"\"\"\n",
    "                 You are an AI assistant tasked with identifying important terms for a glossary \n",
    "                 in a beginner Python programming course. The course is designed for learners \n",
    "                 with no prior programming experience. Your job is to analyze the given course \n",
    "                 transcript and identify terms that should be included in the glossary.\n",
    "\n",
    "                 When analyzing the transcript, focus on the following types of terms:\n",
    "                 1. Basic programming concepts (e.g., variable, function, loop)\n",
    "                 2. Python-specific terms and keywords (e.g., def, if, else, list comprehension)\n",
    "                 3. Syntax elements (e.g., colon, indentation, brackets)\n",
    "                 4. Common built-in functions (e.g., print(), input(), len())\n",
    "                 5. Error messages (e.g., SyntaxError, IndentationError)\n",
    "                 6. Development environment terms (e.g., IDE, console)\n",
    "                 7. File operation concepts (e.g., read, write, file path)\n",
    "                 8. Simple data structures (e.g., list, tuple, dictionary)\n",
    "                 9. Basic object-oriented programming terms (e.g., class, object)\n",
    "                 10. Module and library basics (e.g., import, package)\n",
    "                 11. Version control basics (if mentioned)\n",
    "                 12. Debugging terms (e.g., breakpoint, step through)\n",
    "                 \n",
    "                 Guidelines for selection:\n",
    "                 - Prioritize terms that appear frequently or are crucial for understanding the content.\n",
    "                 - Focus on terms directly related to Python programming.\n",
    "                 - Include terms that might be challenging for absolute beginners.\n",
    "                 - If a common word has a specific meaning in programming, include it.\n",
    "                 - Avoid overly advanced concepts not central to the beginner course.\n",
    "\n",
    "                Identify the 5 most important topics. Provide your topics as a comma-separated list. \n",
    "                Don't include any other characters in your response.\n",
    "\n",
    "                Analyze the following course transcript and list the terms that should be included in the glossary based on these guidelines:\n",
    "                 \n",
    "                {transcript}\n",
    "            \"\"\"}\n",
    "        ]\n",
    "    )\n",
    "    return [topic.strip() for topic in response.choices[0].message.content.split(',')]"
   ]
  },
  {
   "cell_type": "code",
   "execution_count": 5,
   "id": "762c2a89-e0a6-46ec-9995-258f15d6c869",
   "metadata": {},
   "outputs": [],
   "source": [
    "# Fumction to remove any duplicate topics that may slip through\n",
    "def remove_duplicates(df):\n",
    "    topics = df['glossary_item'].tolist()\n",
    "    topics_str = \", \".join(topics)\n",
    "    \n",
    "    response = client.chat.completions.create(\n",
    "        model=\"gpt-3.5-turbo\",\n",
    "        messages=[\n",
    "            {\"role\": \"system\", \"content\": \"You are a helpful assistant that identifies duplicate or very similar programming topics from a list.\"},\n",
    "            {\"role\": \"user\", \"content\": f\"Here is a list of programming topics: {topics_str}. Please identify any duplicates or very similar topics. For each set of duplicates, choose the most appropriate term to keep and list the terms to remove. Return your answer as a Python dictionary where keys are terms to keep and values are lists of terms to remove. Only include terms that have duplicates.\"}\n",
    "        ]\n",
    "    )\n",
    "    \n",
    "    duplicates_dict = eval(response.choices[0].message.content)\n",
    "    \n",
    "    # Flatten the list of terms to remove\n",
    "    terms_to_remove = [item for sublist in duplicates_dict.values() for item in sublist]\n",
    "    \n",
    "    # Remove rows with duplicate terms\n",
    "    df_cleaned = df[~df['glossary_item'].isin(terms_to_remove)]\n",
    "    \n",
    "    return df_cleaned\n"
   ]
  },
  {
   "cell_type": "code",
   "execution_count": 6,
   "id": "0a6f1b59-45a3-4b9b-9596-1ecd96c43cad",
   "metadata": {},
   "outputs": [],
   "source": [
    "def get_description(topic, video_name, transcript_dir, style_prompt):\n",
    "    # Read the transcript file\n",
    "    with open(os.path.join(transcript_dir, video_name), 'r') as file:\n",
    "        transcript = file.read()\n",
    "\n",
    "    # Extract lesson number or name from video_name (assuming format like 'lesson_1.txt' or 'introduction_to_python.txt')\n",
    "    lesson_identifier = video_name.split('.')[0].replace('_', ' ').title()\n",
    "\n",
    "    response = client.chat.completions.create(\n",
    "        model=\"gpt-4o\",\n",
    "        messages=[\n",
    "            {\"role\": \"system\", \"content\": f\"You are a helpful assistant that provides concise descriptions of programming topics. {style_prompt}\"},\n",
    "            {\"role\": \"user\", \"content\": f\"Provide a short description (50 words or less) of the programming topic: '{topic}'. This topic was introduced in the lesson '{lesson_identifier}'. Use the following transcript as context, and if it makes the description easier to understand, refer to specific examples or explanations from this lesson in your description. If you refer to the lesson, use its name or number ('{lesson_identifier}') instead of saying 'in the video':\\n\\n{transcript}\"}\n",
    "        ]\n",
    "    )\n",
    "    return response.choices[0].message.content.strip()\n"
   ]
  },
  {
   "cell_type": "code",
   "execution_count": 7,
   "id": "5145ca5c-0e6d-446c-b75f-e4fedb1c85f1",
   "metadata": {},
   "outputs": [],
   "source": [
    "# Create empty DataFrame\n",
    "df = pd.DataFrame(columns=['glossary_item', 'video_name', 'item_description'])"
   ]
  },
  {
   "cell_type": "code",
   "execution_count": 8,
   "id": "85ddd9a4-b2d7-4f1c-a206-eb94e10c7095",
   "metadata": {},
   "outputs": [
    {
     "data": {
      "text/html": [
       "<div>\n",
       "<style scoped>\n",
       "    .dataframe tbody tr th:only-of-type {\n",
       "        vertical-align: middle;\n",
       "    }\n",
       "\n",
       "    .dataframe tbody tr th {\n",
       "        vertical-align: top;\n",
       "    }\n",
       "\n",
       "    .dataframe thead th {\n",
       "        text-align: right;\n",
       "    }\n",
       "</style>\n",
       "<table border=\"1\" class=\"dataframe\">\n",
       "  <thead>\n",
       "    <tr style=\"text-align: right;\">\n",
       "      <th></th>\n",
       "      <th>glossary_item</th>\n",
       "      <th>video_name</th>\n",
       "      <th>item_description</th>\n",
       "    </tr>\n",
       "  </thead>\n",
       "  <tbody>\n",
       "  </tbody>\n",
       "</table>\n",
       "</div>"
      ],
      "text/plain": [
       "Empty DataFrame\n",
       "Columns: [glossary_item, video_name, item_description]\n",
       "Index: []"
      ]
     },
     "execution_count": 8,
     "metadata": {},
     "output_type": "execute_result"
    }
   ],
   "source": [
    "df.head()"
   ]
  },
  {
   "cell_type": "code",
   "execution_count": 9,
   "id": "72c477ee-e811-4203-a61b-0598bed560e0",
   "metadata": {},
   "outputs": [],
   "source": [
    "# Directory containing transcript files\n",
    "transcript_dir = '/Users/tommynelson/Documents/Ap4E_2024_videos/C1/Descript_versions/transcripts'"
   ]
  },
  {
   "cell_type": "code",
   "execution_count": 10,
   "id": "4b6f788d-7772-4185-a69c-d413ea521f2b",
   "metadata": {},
   "outputs": [
    {
     "name": "stderr",
     "output_type": "stream",
     "text": [
      "Processing transcripts: 100%|███████████████████| 11/11 [00:06<00:00,  1.74it/s]\n"
     ]
    }
   ],
   "source": [
    "# Process each transcript file\n",
    "for filename in tqdm(os.listdir(transcript_dir), desc=\"Processing transcripts\"):\n",
    "    if filename.endswith('.txt'):\n",
    "        with open(os.path.join(transcript_dir, filename), 'r') as file:\n",
    "            transcript = file.read()\n",
    "        \n",
    "        topics = get_topics(transcript)\n",
    "        \n",
    "        for topic in topics:\n",
    "            if topic not in df['glossary_item'].values:\n",
    "                df = df._append({\n",
    "                    'glossary_item': topic,\n",
    "                    'video_name': filename,\n",
    "                    'item_description': ''\n",
    "                }, ignore_index=True)"
   ]
  },
  {
   "cell_type": "code",
   "execution_count": 11,
   "id": "293c9aac-7cde-4cc0-bb9d-6f9397a16704",
   "metadata": {},
   "outputs": [
    {
     "data": {
      "text/plain": [
       "0                      variable\n",
       "1                      function\n",
       "2                          loop\n",
       "3                           def\n",
       "4                       print()\n",
       "5                         len()\n",
       "6                      argument\n",
       "7               print statement\n",
       "8                       comment\n",
       "9                 error message\n",
       "10                          bug\n",
       "11                       string\n",
       "12                    variables\n",
       "13                    functions\n",
       "14                      strings\n",
       "15                       type()\n",
       "16                        print\n",
       "17                     f-string\n",
       "18                variable name\n",
       "19             formatted string\n",
       "20                 curly braces\n",
       "21    floating-point formatting\n",
       "22                       syntax\n",
       "23                       prompt\n",
       "24             Jupyter Notebook\n",
       "25           coding environment\n",
       "26                  Shift Enter\n",
       "27                    Command V\n",
       "28                    Control V\n",
       "Name: glossary_item, dtype: object"
      ]
     },
     "execution_count": 11,
     "metadata": {},
     "output_type": "execute_result"
    }
   ],
   "source": [
    "df['glossary_item']"
   ]
  },
  {
   "cell_type": "code",
   "execution_count": 12,
   "id": "4876ceb5-1bcd-4556-8ef5-33362d275e72",
   "metadata": {},
   "outputs": [
    {
     "name": "stdout",
     "output_type": "stream",
     "text": [
      "Removing duplicate topics...\n"
     ]
    }
   ],
   "source": [
    "# Remove duplicates\n",
    "print(\"Removing duplicate topics...\")\n",
    "df = remove_duplicates(df)"
   ]
  },
  {
   "cell_type": "code",
   "execution_count": 13,
   "id": "c13e6021-538c-4ec1-984d-b14d361d9b20",
   "metadata": {},
   "outputs": [
    {
     "data": {
      "text/plain": [
       "0                      variable\n",
       "1                      function\n",
       "2                          loop\n",
       "3                           def\n",
       "4                       print()\n",
       "5                         len()\n",
       "6                      argument\n",
       "8                       comment\n",
       "9                 error message\n",
       "10                          bug\n",
       "11                       string\n",
       "15                       type()\n",
       "16                        print\n",
       "17                     f-string\n",
       "18                variable name\n",
       "20                 curly braces\n",
       "21    floating-point formatting\n",
       "22                       syntax\n",
       "23                       prompt\n",
       "24             Jupyter Notebook\n",
       "25           coding environment\n",
       "26                  Shift Enter\n",
       "27                    Command V\n",
       "28                    Control V\n",
       "Name: glossary_item, dtype: object"
      ]
     },
     "execution_count": 13,
     "metadata": {},
     "output_type": "execute_result"
    }
   ],
   "source": [
    "df['glossary_item']"
   ]
  },
  {
   "cell_type": "code",
   "execution_count": 14,
   "id": "9b9194d8-f4a4-499f-aba3-cd4e5991bcfe",
   "metadata": {},
   "outputs": [],
   "source": [
    "style_prompt = \"\"\"\n",
    "    Your writing should have a friendly tone, and avoid complicated language \n",
    "    that could be difficult for a learner taking their first python course to understand.\n",
    "    \n",
    "    If it helps to make the information in the description easier to understand for the learner, \n",
    "    include specific examples or explanations from the video context.\n",
    "    \n",
    "    Do not start your descriptions with \"refer to\" or \"refers to\"!\n",
    "\"\"\""
   ]
  },
  {
   "cell_type": "code",
   "execution_count": 15,
   "id": "6e9a69aa-a7ad-4f74-a1f4-1ef12d1ff1b4",
   "metadata": {},
   "outputs": [
    {
     "name": "stderr",
     "output_type": "stream",
     "text": [
      "Generating descriptions: 100%|██████████████████| 24/24 [00:31<00:00,  1.32s/it]"
     ]
    },
    {
     "name": "stdout",
     "output_type": "stream",
     "text": [
      "Glossary created successfully!\n"
     ]
    },
    {
     "name": "stderr",
     "output_type": "stream",
     "text": [
      "\n"
     ]
    }
   ],
   "source": [
    "# Get descriptions for each topic\n",
    "for index, row in tqdm(df.iterrows(), total=df.shape[0], desc=\"Generating descriptions\"):\n",
    "    description = get_description(row['glossary_item'], row['video_name'], transcript_dir, style_prompt)\n",
    "    df.at[index, 'item_description'] = description\n",
    "\n",
    "# Sort DataFrame alphabetically by glossary_item\n",
    "df = df.sort_values('glossary_item')\n",
    "\n",
    "# Create markdown file\n",
    "with open('glossary.md', 'w') as f:\n",
    "    f.write(\"# Python Course Glossary\\n\\n\")\n",
    "    for index, row in df.iterrows():\n",
    "        item = row['glossary_item']\n",
    "        description = row['item_description']\n",
    "        video = row['video_name']\n",
    "        \n",
    "        # Create an anchor link\n",
    "        anchor = re.sub(r'\\W+', '-', item.lower())\n",
    "        \n",
    "        f.write(f\"## [{item}](#{anchor})\\n\\n\")\n",
    "        f.write(f\"{description}\\n\\n\")\n",
    "        f.write(f\"*Introduced in: [{video}](path/to/video/{video})*\\n\\n\")\n",
    "\n",
    "print(\"Glossary created successfully!\")"
   ]
  },
  {
   "cell_type": "code",
   "execution_count": null,
   "id": "3baeac22-2fac-44a4-9d55-aad4ae563baf",
   "metadata": {},
   "outputs": [],
   "source": []
  }
 ],
 "metadata": {
  "kernelspec": {
   "display_name": "Python 3 (ipykernel)",
   "language": "python",
   "name": "python3"
  },
  "language_info": {
   "codemirror_mode": {
    "name": "ipython",
    "version": 3
   },
   "file_extension": ".py",
   "mimetype": "text/x-python",
   "name": "python",
   "nbconvert_exporter": "python",
   "pygments_lexer": "ipython3",
   "version": "3.10.14"
  }
 },
 "nbformat": 4,
 "nbformat_minor": 5
}
